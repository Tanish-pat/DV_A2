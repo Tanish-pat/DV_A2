{
  "cells": [
    {
      "cell_type": "code",
      "execution_count": 24,
      "metadata": {},
      "outputs": [],
      "source": [
        "import numpy as np\n",
        "import matplotlib.pyplot as plt\n",
        "import pandas as pd\n",
        "import seaborn as sns\n"
      ]
    },
    {
      "cell_type": "code",
      "execution_count": 25,
      "metadata": {},
      "outputs": [],
      "source": [
        "edges = pd.read_csv('edges.csv')\n",
        "vertices = pd.read_csv('vertices.csv')"
      ]
    },
    {
      "cell_type": "code",
      "execution_count": 26,
      "metadata": {},
      "outputs": [
        {
          "data": {
            "text/html": [
              "<div>\n",
              "<style scoped>\n",
              "    .dataframe tbody tr th:only-of-type {\n",
              "        vertical-align: middle;\n",
              "    }\n",
              "\n",
              "    .dataframe tbody tr th {\n",
              "        vertical-align: top;\n",
              "    }\n",
              "\n",
              "    .dataframe thead th {\n",
              "        text-align: right;\n",
              "    }\n",
              "</style>\n",
              "<table border=\"1\" class=\"dataframe\">\n",
              "  <thead>\n",
              "    <tr style=\"text-align: right;\">\n",
              "      <th></th>\n",
              "      <th>Source</th>\n",
              "      <th>Target</th>\n",
              "      <th>Weight</th>\n",
              "    </tr>\n",
              "  </thead>\n",
              "  <tbody>\n",
              "    <tr>\n",
              "      <th>0</th>\n",
              "      <td>118</td>\n",
              "      <td>201</td>\n",
              "      <td>0.1804</td>\n",
              "    </tr>\n",
              "    <tr>\n",
              "      <th>1</th>\n",
              "      <td>118</td>\n",
              "      <td>258</td>\n",
              "      <td>0.1474</td>\n",
              "    </tr>\n",
              "    <tr>\n",
              "      <th>2</th>\n",
              "      <td>118</td>\n",
              "      <td>182</td>\n",
              "      <td>0.0332</td>\n",
              "    </tr>\n",
              "    <tr>\n",
              "      <th>3</th>\n",
              "      <td>118</td>\n",
              "      <td>152</td>\n",
              "      <td>0.0416</td>\n",
              "    </tr>\n",
              "    <tr>\n",
              "      <th>4</th>\n",
              "      <td>118</td>\n",
              "      <td>162</td>\n",
              "      <td>0.0676</td>\n",
              "    </tr>\n",
              "  </tbody>\n",
              "</table>\n",
              "</div>"
            ],
            "text/plain": [
              "   Source  Target  Weight\n",
              "0     118     201  0.1804\n",
              "1     118     258  0.1474\n",
              "2     118     182  0.0332\n",
              "3     118     152  0.0416\n",
              "4     118     162  0.0676"
            ]
          },
          "execution_count": 26,
          "metadata": {},
          "output_type": "execute_result"
        }
      ],
      "source": [
        "edges.head()"
      ]
    },
    {
      "cell_type": "code",
      "execution_count": 27,
      "metadata": {},
      "outputs": [
        {
          "data": {
            "text/html": [
              "<div>\n",
              "<style scoped>\n",
              "    .dataframe tbody tr th:only-of-type {\n",
              "        vertical-align: middle;\n",
              "    }\n",
              "\n",
              "    .dataframe tbody tr th {\n",
              "        vertical-align: top;\n",
              "    }\n",
              "\n",
              "    .dataframe thead th {\n",
              "        text-align: right;\n",
              "    }\n",
              "</style>\n",
              "<table border=\"1\" class=\"dataframe\">\n",
              "  <thead>\n",
              "    <tr style=\"text-align: right;\">\n",
              "      <th></th>\n",
              "      <th>id</th>\n",
              "      <th>Name</th>\n",
              "      <th>X</th>\n",
              "      <th>Y</th>\n",
              "      <th>Z</th>\n",
              "      <th>label</th>\n",
              "    </tr>\n",
              "  </thead>\n",
              "  <tbody>\n",
              "    <tr>\n",
              "      <th>0</th>\n",
              "      <td>1</td>\n",
              "      <td>Wiley Post-Will Rogers Mem</td>\n",
              "      <td>0.4407</td>\n",
              "      <td>0.0910</td>\n",
              "      <td>0.5</td>\n",
              "      <td>Alaska</td>\n",
              "    </tr>\n",
              "    <tr>\n",
              "      <th>1</th>\n",
              "      <td>2</td>\n",
              "      <td>Deadhorse</td>\n",
              "      <td>0.4830</td>\n",
              "      <td>0.1014</td>\n",
              "      <td>0.5</td>\n",
              "      <td>Alaska</td>\n",
              "    </tr>\n",
              "    <tr>\n",
              "      <th>2</th>\n",
              "      <td>3</td>\n",
              "      <td>Ralph Wien Memorial</td>\n",
              "      <td>0.4110</td>\n",
              "      <td>0.1330</td>\n",
              "      <td>0.5</td>\n",
              "      <td>Alaska</td>\n",
              "    </tr>\n",
              "    <tr>\n",
              "      <th>3</th>\n",
              "      <td>4</td>\n",
              "      <td>Fairbanks Intl</td>\n",
              "      <td>0.4861</td>\n",
              "      <td>0.1528</td>\n",
              "      <td>0.5</td>\n",
              "      <td>Alaska</td>\n",
              "    </tr>\n",
              "    <tr>\n",
              "      <th>4</th>\n",
              "      <td>5</td>\n",
              "      <td>Nome</td>\n",
              "      <td>0.3965</td>\n",
              "      <td>0.1557</td>\n",
              "      <td>0.5</td>\n",
              "      <td>Alaska</td>\n",
              "    </tr>\n",
              "  </tbody>\n",
              "</table>\n",
              "</div>"
            ],
            "text/plain": [
              "   id                        Name       X       Y    Z   label\n",
              "0   1  Wiley Post-Will Rogers Mem  0.4407  0.0910  0.5  Alaska\n",
              "1   2                   Deadhorse  0.4830  0.1014  0.5  Alaska\n",
              "2   3         Ralph Wien Memorial  0.4110  0.1330  0.5  Alaska\n",
              "3   4              Fairbanks Intl  0.4861  0.1528  0.5  Alaska\n",
              "4   5                        Nome  0.3965  0.1557  0.5  Alaska"
            ]
          },
          "execution_count": 27,
          "metadata": {},
          "output_type": "execute_result"
        }
      ],
      "source": [
        "vertices.head()"
      ]
    },
    {
      "cell_type": "code",
      "execution_count": 28,
      "metadata": {},
      "outputs": [],
      "source": [
        "# make a new column in the vertices dataframe that is the degree of each vertex\n",
        "# vertices['degree'] = vertices['id'].map(edges['Source'].value_counts()) + vertices['id'].map(edges['Target'].value_counts())\n",
        "# make degree 0 for vertices that are not in the edges dataframe\n",
        "# vertices['degree'] = vertices['degree'].fillna(0)\n",
        "vertices['inDegree'] = vertices['id'].map(edges['Target'].value_counts())\n",
        "vertices['outDegree'] = vertices['id'].map(edges['Source'].value_counts())\n",
        "vertices['inDegree'] = vertices['inDegree'].fillna(0)\n",
        "vertices['outDegree'] = vertices['outDegree'].fillna(0)"
      ]
    },
    {
      "cell_type": "code",
      "execution_count": 29,
      "metadata": {},
      "outputs": [
        {
          "data": {
            "text/html": [
              "<div>\n",
              "<style scoped>\n",
              "    .dataframe tbody tr th:only-of-type {\n",
              "        vertical-align: middle;\n",
              "    }\n",
              "\n",
              "    .dataframe tbody tr th {\n",
              "        vertical-align: top;\n",
              "    }\n",
              "\n",
              "    .dataframe thead th {\n",
              "        text-align: right;\n",
              "    }\n",
              "</style>\n",
              "<table border=\"1\" class=\"dataframe\">\n",
              "  <thead>\n",
              "    <tr style=\"text-align: right;\">\n",
              "      <th></th>\n",
              "      <th>id</th>\n",
              "      <th>Name</th>\n",
              "      <th>X</th>\n",
              "      <th>Y</th>\n",
              "      <th>Z</th>\n",
              "      <th>label</th>\n",
              "      <th>inDegree</th>\n",
              "      <th>outDegree</th>\n",
              "    </tr>\n",
              "  </thead>\n",
              "  <tbody>\n",
              "    <tr>\n",
              "      <th>0</th>\n",
              "      <td>1</td>\n",
              "      <td>Wiley Post-Will Rogers Mem</td>\n",
              "      <td>0.4407</td>\n",
              "      <td>0.0910</td>\n",
              "      <td>0.5</td>\n",
              "      <td>Alaska</td>\n",
              "      <td>0.0</td>\n",
              "      <td>3.0</td>\n",
              "    </tr>\n",
              "    <tr>\n",
              "      <th>1</th>\n",
              "      <td>2</td>\n",
              "      <td>Deadhorse</td>\n",
              "      <td>0.4830</td>\n",
              "      <td>0.1014</td>\n",
              "      <td>0.5</td>\n",
              "      <td>Alaska</td>\n",
              "      <td>1.0</td>\n",
              "      <td>2.0</td>\n",
              "    </tr>\n",
              "    <tr>\n",
              "      <th>2</th>\n",
              "      <td>3</td>\n",
              "      <td>Ralph Wien Memorial</td>\n",
              "      <td>0.4110</td>\n",
              "      <td>0.1330</td>\n",
              "      <td>0.5</td>\n",
              "      <td>Alaska</td>\n",
              "      <td>0.0</td>\n",
              "      <td>2.0</td>\n",
              "    </tr>\n",
              "    <tr>\n",
              "      <th>3</th>\n",
              "      <td>4</td>\n",
              "      <td>Fairbanks Intl</td>\n",
              "      <td>0.4861</td>\n",
              "      <td>0.1528</td>\n",
              "      <td>0.5</td>\n",
              "      <td>Alaska</td>\n",
              "      <td>2.0</td>\n",
              "      <td>3.0</td>\n",
              "    </tr>\n",
              "    <tr>\n",
              "      <th>4</th>\n",
              "      <td>5</td>\n",
              "      <td>Nome</td>\n",
              "      <td>0.3965</td>\n",
              "      <td>0.1557</td>\n",
              "      <td>0.5</td>\n",
              "      <td>Alaska</td>\n",
              "      <td>1.0</td>\n",
              "      <td>1.0</td>\n",
              "    </tr>\n",
              "  </tbody>\n",
              "</table>\n",
              "</div>"
            ],
            "text/plain": [
              "   id                        Name       X       Y    Z   label  inDegree  \\\n",
              "0   1  Wiley Post-Will Rogers Mem  0.4407  0.0910  0.5  Alaska       0.0   \n",
              "1   2                   Deadhorse  0.4830  0.1014  0.5  Alaska       1.0   \n",
              "2   3         Ralph Wien Memorial  0.4110  0.1330  0.5  Alaska       0.0   \n",
              "3   4              Fairbanks Intl  0.4861  0.1528  0.5  Alaska       2.0   \n",
              "4   5                        Nome  0.3965  0.1557  0.5  Alaska       1.0   \n",
              "\n",
              "   outDegree  \n",
              "0        3.0  \n",
              "1        2.0  \n",
              "2        2.0  \n",
              "3        3.0  \n",
              "4        1.0  "
            ]
          },
          "execution_count": 29,
          "metadata": {},
          "output_type": "execute_result"
        }
      ],
      "source": [
        "vertices.head()"
      ]
    },
    {
      "cell_type": "code",
      "execution_count": 30,
      "metadata": {},
      "outputs": [],
      "source": [
        "# Modify to explicitly exclude the grouping columns\n",
        "vertices['connectedTo'] = vertices['id'].map(edges.groupby('Source', group_keys=False).apply(lambda x: list(zip(x['Target'], x['Weight'])),include_groups=False))\n",
        "vertices['connectedTo'] = vertices['connectedTo'].fillna('')\n",
        "vertices['connectedTo'] = vertices['connectedTo'].apply(lambda x: sorted(x))\n"
      ]
    },
    {
      "cell_type": "code",
      "execution_count": 31,
      "metadata": {},
      "outputs": [
        {
          "data": {
            "text/html": [
              "<div>\n",
              "<style scoped>\n",
              "    .dataframe tbody tr th:only-of-type {\n",
              "        vertical-align: middle;\n",
              "    }\n",
              "\n",
              "    .dataframe tbody tr th {\n",
              "        vertical-align: top;\n",
              "    }\n",
              "\n",
              "    .dataframe thead th {\n",
              "        text-align: right;\n",
              "    }\n",
              "</style>\n",
              "<table border=\"1\" class=\"dataframe\">\n",
              "  <thead>\n",
              "    <tr style=\"text-align: right;\">\n",
              "      <th></th>\n",
              "      <th>id</th>\n",
              "      <th>Name</th>\n",
              "      <th>X</th>\n",
              "      <th>Y</th>\n",
              "      <th>Z</th>\n",
              "      <th>label</th>\n",
              "      <th>inDegree</th>\n",
              "      <th>outDegree</th>\n",
              "      <th>connectedTo</th>\n",
              "    </tr>\n",
              "  </thead>\n",
              "  <tbody>\n",
              "    <tr>\n",
              "      <th>0</th>\n",
              "      <td>1</td>\n",
              "      <td>Wiley Post-Will Rogers Mem</td>\n",
              "      <td>0.4407</td>\n",
              "      <td>0.0910</td>\n",
              "      <td>0.5</td>\n",
              "      <td>Alaska</td>\n",
              "      <td>0.0</td>\n",
              "      <td>3.0</td>\n",
              "      <td>[(2, 0.0436), (4, 0.0767), (8, 0.1026)]</td>\n",
              "    </tr>\n",
              "    <tr>\n",
              "      <th>1</th>\n",
              "      <td>2</td>\n",
              "      <td>Deadhorse</td>\n",
              "      <td>0.4830</td>\n",
              "      <td>0.1014</td>\n",
              "      <td>0.5</td>\n",
              "      <td>Alaska</td>\n",
              "      <td>1.0</td>\n",
              "      <td>2.0</td>\n",
              "      <td>[(4, 0.0515), (8, 0.0866)]</td>\n",
              "    </tr>\n",
              "    <tr>\n",
              "      <th>2</th>\n",
              "      <td>3</td>\n",
              "      <td>Ralph Wien Memorial</td>\n",
              "      <td>0.4110</td>\n",
              "      <td>0.1330</td>\n",
              "      <td>0.5</td>\n",
              "      <td>Alaska</td>\n",
              "      <td>0.0</td>\n",
              "      <td>2.0</td>\n",
              "      <td>[(5, 0.0269), (8, 0.0843)]</td>\n",
              "    </tr>\n",
              "    <tr>\n",
              "      <th>3</th>\n",
              "      <td>4</td>\n",
              "      <td>Fairbanks Intl</td>\n",
              "      <td>0.4861</td>\n",
              "      <td>0.1528</td>\n",
              "      <td>0.5</td>\n",
              "      <td>Alaska</td>\n",
              "      <td>2.0</td>\n",
              "      <td>3.0</td>\n",
              "      <td>[(8, 0.0365), (26, 0.0915), (47, 0.2109)]</td>\n",
              "    </tr>\n",
              "    <tr>\n",
              "      <th>4</th>\n",
              "      <td>5</td>\n",
              "      <td>Nome</td>\n",
              "      <td>0.3965</td>\n",
              "      <td>0.1557</td>\n",
              "      <td>0.5</td>\n",
              "      <td>Alaska</td>\n",
              "      <td>1.0</td>\n",
              "      <td>1.0</td>\n",
              "      <td>[(8, 0.0849)]</td>\n",
              "    </tr>\n",
              "    <tr>\n",
              "      <th>...</th>\n",
              "      <td>...</td>\n",
              "      <td>...</td>\n",
              "      <td>...</td>\n",
              "      <td>...</td>\n",
              "      <td>...</td>\n",
              "      <td>...</td>\n",
              "      <td>...</td>\n",
              "      <td>...</td>\n",
              "      <td>...</td>\n",
              "    </tr>\n",
              "    <tr>\n",
              "      <th>327</th>\n",
              "      <td>328</td>\n",
              "      <td>Rota Intl</td>\n",
              "      <td>0.1454</td>\n",
              "      <td>0.6366</td>\n",
              "      <td>0.5</td>\n",
              "      <td>Northern Mariana Islands</td>\n",
              "      <td>1.0</td>\n",
              "      <td>1.0</td>\n",
              "      <td>[(329, 0.007)]</td>\n",
              "    </tr>\n",
              "    <tr>\n",
              "      <th>328</th>\n",
              "      <td>329</td>\n",
              "      <td>Guam Intll</td>\n",
              "      <td>0.1431</td>\n",
              "      <td>0.6432</td>\n",
              "      <td>0.5</td>\n",
              "      <td>Guam</td>\n",
              "      <td>3.0</td>\n",
              "      <td>1.0</td>\n",
              "      <td>[(330, 0.0784)]</td>\n",
              "    </tr>\n",
              "    <tr>\n",
              "      <th>329</th>\n",
              "      <td>330</td>\n",
              "      <td>Babelthuap/Koror</td>\n",
              "      <td>0.0909</td>\n",
              "      <td>0.7017</td>\n",
              "      <td>0.5</td>\n",
              "      <td>Palau</td>\n",
              "      <td>2.0</td>\n",
              "      <td>0.0</td>\n",
              "      <td>[]</td>\n",
              "    </tr>\n",
              "    <tr>\n",
              "      <th>330</th>\n",
              "      <td>331</td>\n",
              "      <td>Pago Pago Intl</td>\n",
              "      <td>0.3697</td>\n",
              "      <td>0.9090</td>\n",
              "      <td>0.5</td>\n",
              "      <td>American Samoa</td>\n",
              "      <td>2.0</td>\n",
              "      <td>0.0</td>\n",
              "      <td>[]</td>\n",
              "    </tr>\n",
              "    <tr>\n",
              "      <th>331</th>\n",
              "      <td>332</td>\n",
              "      <td>West Tinian</td>\n",
              "      <td>0.1473</td>\n",
              "      <td>0.6288</td>\n",
              "      <td>0.5</td>\n",
              "      <td>Northern Mariana Islands</td>\n",
              "      <td>1.0</td>\n",
              "      <td>0.0</td>\n",
              "      <td>[]</td>\n",
              "    </tr>\n",
              "  </tbody>\n",
              "</table>\n",
              "<p>332 rows × 9 columns</p>\n",
              "</div>"
            ],
            "text/plain": [
              "      id                        Name       X       Y    Z  \\\n",
              "0      1  Wiley Post-Will Rogers Mem  0.4407  0.0910  0.5   \n",
              "1      2                   Deadhorse  0.4830  0.1014  0.5   \n",
              "2      3         Ralph Wien Memorial  0.4110  0.1330  0.5   \n",
              "3      4              Fairbanks Intl  0.4861  0.1528  0.5   \n",
              "4      5                        Nome  0.3965  0.1557  0.5   \n",
              "..   ...                         ...     ...     ...  ...   \n",
              "327  328                   Rota Intl  0.1454  0.6366  0.5   \n",
              "328  329                  Guam Intll  0.1431  0.6432  0.5   \n",
              "329  330            Babelthuap/Koror  0.0909  0.7017  0.5   \n",
              "330  331              Pago Pago Intl  0.3697  0.9090  0.5   \n",
              "331  332                 West Tinian  0.1473  0.6288  0.5   \n",
              "\n",
              "                        label  inDegree  outDegree  \\\n",
              "0                      Alaska       0.0        3.0   \n",
              "1                      Alaska       1.0        2.0   \n",
              "2                      Alaska       0.0        2.0   \n",
              "3                      Alaska       2.0        3.0   \n",
              "4                      Alaska       1.0        1.0   \n",
              "..                        ...       ...        ...   \n",
              "327  Northern Mariana Islands       1.0        1.0   \n",
              "328                      Guam       3.0        1.0   \n",
              "329                     Palau       2.0        0.0   \n",
              "330            American Samoa       2.0        0.0   \n",
              "331  Northern Mariana Islands       1.0        0.0   \n",
              "\n",
              "                                   connectedTo  \n",
              "0      [(2, 0.0436), (4, 0.0767), (8, 0.1026)]  \n",
              "1                   [(4, 0.0515), (8, 0.0866)]  \n",
              "2                   [(5, 0.0269), (8, 0.0843)]  \n",
              "3    [(8, 0.0365), (26, 0.0915), (47, 0.2109)]  \n",
              "4                                [(8, 0.0849)]  \n",
              "..                                         ...  \n",
              "327                             [(329, 0.007)]  \n",
              "328                            [(330, 0.0784)]  \n",
              "329                                         []  \n",
              "330                                         []  \n",
              "331                                         []  \n",
              "\n",
              "[332 rows x 9 columns]"
            ]
          },
          "execution_count": 31,
          "metadata": {},
          "output_type": "execute_result"
        }
      ],
      "source": [
        "vertices"
      ]
    },
    {
      "cell_type": "code",
      "execution_count": 32,
      "metadata": {},
      "outputs": [],
      "source": [
        "# convert current to a csv file\n",
        "vertices.to_csv('adjacencyList.csv', id=False)"
      ]
    },
    {
      "cell_type": "code",
      "execution_count": 33,
      "metadata": {},
      "outputs": [
        {
          "data": {
            "text/plain": [
              "array(['Alaska', 'Washington', 'Montana', 'North Dakota', 'Minnesota',\n",
              "       'Michigan', 'Idaho', 'Tennessee', 'Oregon', 'Maine', 'Wisconsin',\n",
              "       'Vermont', 'South Dakota', 'Wyoming', 'New York', 'New Hampshire',\n",
              "       'Pennsylvania', 'Iowa', 'Massachusetts', 'Illinois', 'Connecticut',\n",
              "       'California', 'Rhode Island', 'Indiana', 'Ohio', 'Nebraska',\n",
              "       'Nevada', 'Utah', 'New Jersey', 'Colorado', 'Missouri', 'Maryland',\n",
              "       'Kentucky', 'Virginia', 'West Virginia', 'Kansas', 'Oklahoma',\n",
              "       'North Carolina', 'Arkansas', 'Texas', 'Arizona', 'New Mexico',\n",
              "       'South Carolina', 'Alabama', 'Georgia', 'Louisiana', 'Mississippi',\n",
              "       'Florida', 'Hawaii', 'Puerto Rico', 'U.S. Virgin Islands',\n",
              "       'Unincorporated U.S. Territory', 'Northern Mariana Islands',\n",
              "       'Guam', 'Palau', 'American Samoa'], dtype=object)"
            ]
          },
          "execution_count": 33,
          "metadata": {},
          "output_type": "execute_result"
        }
      ],
      "source": [
        "vertices['label'].unique()"
      ]
    },
    {
      "cell_type": "code",
      "execution_count": 34,
      "metadata": {},
      "outputs": [
        {
          "data": {
            "text/plain": [
              "56"
            ]
          },
          "execution_count": 34,
          "metadata": {},
          "output_type": "execute_result"
        }
      ],
      "source": [
        "len(vertices['label'].unique())"
      ]
    },
    {
      "cell_type": "code",
      "execution_count": 36,
      "metadata": {},
      "outputs": [
        {
          "data": {
            "application/vnd.plotly.v1+json": {
              "config": {
                "plotlyServerURL": "https://plot.ly"
              },
              "data": [
                {
                  "branchvalues": "total",
                  "customdata": [
                    [
                      0.3340020060180542
                    ],
                    [
                      0.26874115983026875
                    ],
                    [
                      0.518840579710145
                    ],
                    [
                      0.24833333333333332
                    ],
                    [
                      0.6659979939819458
                    ],
                    [
                      0.813265306122449
                    ],
                    [
                      0.75
                    ],
                    [
                      1
                    ],
                    [
                      0.6918367346938775
                    ],
                    [
                      0.7710144927536232
                    ],
                    [
                      0.34
                    ],
                    [
                      0.444927536231884
                    ],
                    [
                      0.5408163265306123
                    ],
                    [
                      0.5163265306122449
                    ],
                    [
                      0.6326530612244898
                    ],
                    [
                      0.4633901705115346
                    ],
                    [
                      0.12959183673469388
                    ],
                    [
                      0.2594202898550725
                    ],
                    [
                      0.5166666666666667
                    ],
                    [
                      0.8613861386138614
                    ],
                    [
                      0.955
                    ],
                    [
                      0.7153061224489796
                    ],
                    [
                      0.22551020408163266
                    ],
                    [
                      1
                    ],
                    [
                      0.6880641925777332
                    ],
                    [
                      1
                    ],
                    [
                      0.9391304347826087
                    ],
                    [
                      0.26326530612244897
                    ],
                    [
                      0.8387553041018387
                    ],
                    [
                      1
                    ],
                    [
                      1
                    ],
                    [
                      0.6010204081632653
                    ],
                    [
                      0.10631895687061184
                    ],
                    [
                      0.6790678597158236
                    ],
                    [
                      0.7654790511892173
                    ],
                    [
                      0.7700127087872186
                    ],
                    [
                      0.6920607882761587
                    ],
                    [
                      0.8480356713272905
                    ]
                  ],
                  "domain": {
                    "x": [
                      0,
                      1
                    ],
                    "y": [
                      0,
                      1
                    ]
                  },
                  "hovertemplate": "labels=%{label}<br>Traffic_sum=%{value}<br>parent=%{parent}<br>id=%{id}<br>Traffic=%{color}<extra></extra>",
                  "ids": [
                    "Northwest/Alaska",
                    "Southwest/Arizona",
                    "New England/Connecticut",
                    "Northeast/Delaware",
                    "Northwest/Idaho",
                    "Midwest/Illinois",
                    "Midwest/Indiana",
                    "Midwest/Iowa",
                    "Midwest/Kansas",
                    "New England/Maine",
                    "Northeast/Maryland",
                    "New England/Massachusetts",
                    "Midwest/Michigan",
                    "Midwest/Minnesota",
                    "Midwest/Missouri",
                    "Northwest/Montana",
                    "Midwest/Nebraska",
                    "New England/New Hampshire",
                    "Northeast/New Jersey",
                    "Southwest/New Mexico",
                    "Northeast/New York",
                    "Midwest/North Dakota",
                    "Midwest/Ohio",
                    "Southwest/Oklahoma",
                    "Northwest/Oregon",
                    "Northeast/Pennsylvania",
                    "New England/Rhode Island",
                    "Midwest/South Dakota",
                    "Southwest/Texas",
                    "New England/Vermont",
                    "Northwest/Washington",
                    "Midwest/Wisconsin",
                    "Northwest/Wyoming",
                    "Midwest",
                    "New England",
                    "Northeast",
                    "Northwest",
                    "Southwest"
                  ],
                  "labels": [
                    "Alaska",
                    "Arizona",
                    "Connecticut",
                    "Delaware",
                    "Idaho",
                    "Illinois",
                    "Indiana",
                    "Iowa",
                    "Kansas",
                    "Maine",
                    "Maryland",
                    "Massachusetts",
                    "Michigan",
                    "Minnesota",
                    "Missouri",
                    "Montana",
                    "Nebraska",
                    "New Hampshire",
                    "New Jersey",
                    "New Mexico",
                    "New York",
                    "North Dakota",
                    "Ohio",
                    "Oklahoma",
                    "Oregon",
                    "Pennsylvania",
                    "Rhode Island",
                    "South Dakota",
                    "Texas",
                    "Vermont",
                    "Washington",
                    "Wisconsin",
                    "Wyoming",
                    "Midwest",
                    "New England",
                    "Northeast",
                    "Northwest",
                    "Southwest"
                  ],
                  "marker": {
                    "coloraxis": "coloraxis",
                    "colors": [
                      0.3340020060180542,
                      0.26874115983026875,
                      0.518840579710145,
                      0.24833333333333332,
                      0.6659979939819458,
                      0.813265306122449,
                      0.75,
                      1,
                      0.6918367346938775,
                      0.7710144927536232,
                      0.34,
                      0.444927536231884,
                      0.5408163265306123,
                      0.5163265306122449,
                      0.6326530612244898,
                      0.4633901705115346,
                      0.12959183673469388,
                      0.2594202898550725,
                      0.5166666666666667,
                      0.8613861386138614,
                      0.955,
                      0.7153061224489796,
                      0.22551020408163266,
                      1,
                      0.6880641925777332,
                      1,
                      0.9391304347826087,
                      0.26326530612244897,
                      0.8387553041018387,
                      1,
                      1,
                      0.6010204081632653,
                      0.10631895687061184,
                      0.6790678597158236,
                      0.7654790511892173,
                      0.7700127087872186,
                      0.6920607882761587,
                      0.8480356713272905
                    ]
                  },
                  "name": "",
                  "parents": [
                    "Northwest",
                    "Southwest",
                    "New England",
                    "Northeast",
                    "Northwest",
                    "Midwest",
                    "Midwest",
                    "Midwest",
                    "Midwest",
                    "New England",
                    "Northeast",
                    "New England",
                    "Midwest",
                    "Midwest",
                    "Midwest",
                    "Northwest",
                    "Midwest",
                    "New England",
                    "Northeast",
                    "Southwest",
                    "Northeast",
                    "Midwest",
                    "Midwest",
                    "Southwest",
                    "Northwest",
                    "Northeast",
                    "New England",
                    "Midwest",
                    "Southwest",
                    "New England",
                    "Northwest",
                    "Midwest",
                    "Northwest",
                    "",
                    "",
                    "",
                    "",
                    ""
                  ],
                  "type": "treemap",
                  "values": [
                    0.3340020060180542,
                    0.26874115983026875,
                    0.518840579710145,
                    0.24833333333333332,
                    0.6659979939819458,
                    0.813265306122449,
                    0.75,
                    1,
                    0.6918367346938775,
                    0.7710144927536232,
                    0.34,
                    0.4449275362318841,
                    0.5408163265306123,
                    0.5163265306122449,
                    0.6326530612244898,
                    0.4633901705115346,
                    0.12959183673469388,
                    0.2594202898550725,
                    0.5166666666666667,
                    0.8613861386138614,
                    0.955,
                    0.7153061224489796,
                    0.22551020408163266,
                    1,
                    0.6880641925777332,
                    1,
                    0.9391304347826087,
                    0.26326530612244897,
                    0.8387553041018387,
                    1,
                    1,
                    0.6010204081632653,
                    0.10631895687061184,
                    6.8795918367346935,
                    3.9333333333333336,
                    3.06,
                    3.2577733199598797,
                    2.968882602545969
                  ]
                }
              ],
              "layout": {
                "coloraxis": {
                  "colorbar": {
                    "title": {
                      "text": "Traffic"
                    }
                  },
                  "colorscale": [
                    [
                      0,
                      "rgb(247,251,255)"
                    ],
                    [
                      0.125,
                      "rgb(222,235,247)"
                    ],
                    [
                      0.25,
                      "rgb(198,219,239)"
                    ],
                    [
                      0.375,
                      "rgb(158,202,225)"
                    ],
                    [
                      0.5,
                      "rgb(107,174,214)"
                    ],
                    [
                      0.625,
                      "rgb(66,146,198)"
                    ],
                    [
                      0.75,
                      "rgb(33,113,181)"
                    ],
                    [
                      0.875,
                      "rgb(8,81,156)"
                    ],
                    [
                      1,
                      "rgb(8,48,107)"
                    ]
                  ]
                },
                "legend": {
                  "tracegroupgap": 0
                },
                "template": {
                  "data": {
                    "bar": [
                      {
                        "error_x": {
                          "color": "#2a3f5f"
                        },
                        "error_y": {
                          "color": "#2a3f5f"
                        },
                        "marker": {
                          "line": {
                            "color": "#E5ECF6",
                            "width": 0.5
                          },
                          "pattern": {
                            "fillmode": "overlay",
                            "size": 10,
                            "solidity": 0.2
                          }
                        },
                        "type": "bar"
                      }
                    ],
                    "barpolar": [
                      {
                        "marker": {
                          "line": {
                            "color": "#E5ECF6",
                            "width": 0.5
                          },
                          "pattern": {
                            "fillmode": "overlay",
                            "size": 10,
                            "solidity": 0.2
                          }
                        },
                        "type": "barpolar"
                      }
                    ],
                    "carpet": [
                      {
                        "aaxis": {
                          "endlinecolor": "#2a3f5f",
                          "gridcolor": "white",
                          "linecolor": "white",
                          "minorgridcolor": "white",
                          "startlinecolor": "#2a3f5f"
                        },
                        "baxis": {
                          "endlinecolor": "#2a3f5f",
                          "gridcolor": "white",
                          "linecolor": "white",
                          "minorgridcolor": "white",
                          "startlinecolor": "#2a3f5f"
                        },
                        "type": "carpet"
                      }
                    ],
                    "choropleth": [
                      {
                        "colorbar": {
                          "outlinewidth": 0,
                          "ticks": ""
                        },
                        "type": "choropleth"
                      }
                    ],
                    "contour": [
                      {
                        "colorbar": {
                          "outlinewidth": 0,
                          "ticks": ""
                        },
                        "colorscale": [
                          [
                            0,
                            "#0d0887"
                          ],
                          [
                            0.1111111111111111,
                            "#46039f"
                          ],
                          [
                            0.2222222222222222,
                            "#7201a8"
                          ],
                          [
                            0.3333333333333333,
                            "#9c179e"
                          ],
                          [
                            0.4444444444444444,
                            "#bd3786"
                          ],
                          [
                            0.5555555555555556,
                            "#d8576b"
                          ],
                          [
                            0.6666666666666666,
                            "#ed7953"
                          ],
                          [
                            0.7777777777777778,
                            "#fb9f3a"
                          ],
                          [
                            0.8888888888888888,
                            "#fdca26"
                          ],
                          [
                            1,
                            "#f0f921"
                          ]
                        ],
                        "type": "contour"
                      }
                    ],
                    "contourcarpet": [
                      {
                        "colorbar": {
                          "outlinewidth": 0,
                          "ticks": ""
                        },
                        "type": "contourcarpet"
                      }
                    ],
                    "heatmap": [
                      {
                        "colorbar": {
                          "outlinewidth": 0,
                          "ticks": ""
                        },
                        "colorscale": [
                          [
                            0,
                            "#0d0887"
                          ],
                          [
                            0.1111111111111111,
                            "#46039f"
                          ],
                          [
                            0.2222222222222222,
                            "#7201a8"
                          ],
                          [
                            0.3333333333333333,
                            "#9c179e"
                          ],
                          [
                            0.4444444444444444,
                            "#bd3786"
                          ],
                          [
                            0.5555555555555556,
                            "#d8576b"
                          ],
                          [
                            0.6666666666666666,
                            "#ed7953"
                          ],
                          [
                            0.7777777777777778,
                            "#fb9f3a"
                          ],
                          [
                            0.8888888888888888,
                            "#fdca26"
                          ],
                          [
                            1,
                            "#f0f921"
                          ]
                        ],
                        "type": "heatmap"
                      }
                    ],
                    "heatmapgl": [
                      {
                        "colorbar": {
                          "outlinewidth": 0,
                          "ticks": ""
                        },
                        "colorscale": [
                          [
                            0,
                            "#0d0887"
                          ],
                          [
                            0.1111111111111111,
                            "#46039f"
                          ],
                          [
                            0.2222222222222222,
                            "#7201a8"
                          ],
                          [
                            0.3333333333333333,
                            "#9c179e"
                          ],
                          [
                            0.4444444444444444,
                            "#bd3786"
                          ],
                          [
                            0.5555555555555556,
                            "#d8576b"
                          ],
                          [
                            0.6666666666666666,
                            "#ed7953"
                          ],
                          [
                            0.7777777777777778,
                            "#fb9f3a"
                          ],
                          [
                            0.8888888888888888,
                            "#fdca26"
                          ],
                          [
                            1,
                            "#f0f921"
                          ]
                        ],
                        "type": "heatmapgl"
                      }
                    ],
                    "histogram": [
                      {
                        "marker": {
                          "pattern": {
                            "fillmode": "overlay",
                            "size": 10,
                            "solidity": 0.2
                          }
                        },
                        "type": "histogram"
                      }
                    ],
                    "histogram2d": [
                      {
                        "colorbar": {
                          "outlinewidth": 0,
                          "ticks": ""
                        },
                        "colorscale": [
                          [
                            0,
                            "#0d0887"
                          ],
                          [
                            0.1111111111111111,
                            "#46039f"
                          ],
                          [
                            0.2222222222222222,
                            "#7201a8"
                          ],
                          [
                            0.3333333333333333,
                            "#9c179e"
                          ],
                          [
                            0.4444444444444444,
                            "#bd3786"
                          ],
                          [
                            0.5555555555555556,
                            "#d8576b"
                          ],
                          [
                            0.6666666666666666,
                            "#ed7953"
                          ],
                          [
                            0.7777777777777778,
                            "#fb9f3a"
                          ],
                          [
                            0.8888888888888888,
                            "#fdca26"
                          ],
                          [
                            1,
                            "#f0f921"
                          ]
                        ],
                        "type": "histogram2d"
                      }
                    ],
                    "histogram2dcontour": [
                      {
                        "colorbar": {
                          "outlinewidth": 0,
                          "ticks": ""
                        },
                        "colorscale": [
                          [
                            0,
                            "#0d0887"
                          ],
                          [
                            0.1111111111111111,
                            "#46039f"
                          ],
                          [
                            0.2222222222222222,
                            "#7201a8"
                          ],
                          [
                            0.3333333333333333,
                            "#9c179e"
                          ],
                          [
                            0.4444444444444444,
                            "#bd3786"
                          ],
                          [
                            0.5555555555555556,
                            "#d8576b"
                          ],
                          [
                            0.6666666666666666,
                            "#ed7953"
                          ],
                          [
                            0.7777777777777778,
                            "#fb9f3a"
                          ],
                          [
                            0.8888888888888888,
                            "#fdca26"
                          ],
                          [
                            1,
                            "#f0f921"
                          ]
                        ],
                        "type": "histogram2dcontour"
                      }
                    ],
                    "mesh3d": [
                      {
                        "colorbar": {
                          "outlinewidth": 0,
                          "ticks": ""
                        },
                        "type": "mesh3d"
                      }
                    ],
                    "parcoords": [
                      {
                        "line": {
                          "colorbar": {
                            "outlinewidth": 0,
                            "ticks": ""
                          }
                        },
                        "type": "parcoords"
                      }
                    ],
                    "pie": [
                      {
                        "automargin": true,
                        "type": "pie"
                      }
                    ],
                    "scatter": [
                      {
                        "fillpattern": {
                          "fillmode": "overlay",
                          "size": 10,
                          "solidity": 0.2
                        },
                        "type": "scatter"
                      }
                    ],
                    "scatter3d": [
                      {
                        "line": {
                          "colorbar": {
                            "outlinewidth": 0,
                            "ticks": ""
                          }
                        },
                        "marker": {
                          "colorbar": {
                            "outlinewidth": 0,
                            "ticks": ""
                          }
                        },
                        "type": "scatter3d"
                      }
                    ],
                    "scattercarpet": [
                      {
                        "marker": {
                          "colorbar": {
                            "outlinewidth": 0,
                            "ticks": ""
                          }
                        },
                        "type": "scattercarpet"
                      }
                    ],
                    "scattergeo": [
                      {
                        "marker": {
                          "colorbar": {
                            "outlinewidth": 0,
                            "ticks": ""
                          }
                        },
                        "type": "scattergeo"
                      }
                    ],
                    "scattergl": [
                      {
                        "marker": {
                          "colorbar": {
                            "outlinewidth": 0,
                            "ticks": ""
                          }
                        },
                        "type": "scattergl"
                      }
                    ],
                    "scattermapbox": [
                      {
                        "marker": {
                          "colorbar": {
                            "outlinewidth": 0,
                            "ticks": ""
                          }
                        },
                        "type": "scattermapbox"
                      }
                    ],
                    "scatterpolar": [
                      {
                        "marker": {
                          "colorbar": {
                            "outlinewidth": 0,
                            "ticks": ""
                          }
                        },
                        "type": "scatterpolar"
                      }
                    ],
                    "scatterpolargl": [
                      {
                        "marker": {
                          "colorbar": {
                            "outlinewidth": 0,
                            "ticks": ""
                          }
                        },
                        "type": "scatterpolargl"
                      }
                    ],
                    "scatterternary": [
                      {
                        "marker": {
                          "colorbar": {
                            "outlinewidth": 0,
                            "ticks": ""
                          }
                        },
                        "type": "scatterternary"
                      }
                    ],
                    "surface": [
                      {
                        "colorbar": {
                          "outlinewidth": 0,
                          "ticks": ""
                        },
                        "colorscale": [
                          [
                            0,
                            "#0d0887"
                          ],
                          [
                            0.1111111111111111,
                            "#46039f"
                          ],
                          [
                            0.2222222222222222,
                            "#7201a8"
                          ],
                          [
                            0.3333333333333333,
                            "#9c179e"
                          ],
                          [
                            0.4444444444444444,
                            "#bd3786"
                          ],
                          [
                            0.5555555555555556,
                            "#d8576b"
                          ],
                          [
                            0.6666666666666666,
                            "#ed7953"
                          ],
                          [
                            0.7777777777777778,
                            "#fb9f3a"
                          ],
                          [
                            0.8888888888888888,
                            "#fdca26"
                          ],
                          [
                            1,
                            "#f0f921"
                          ]
                        ],
                        "type": "surface"
                      }
                    ],
                    "table": [
                      {
                        "cells": {
                          "fill": {
                            "color": "#EBF0F8"
                          },
                          "line": {
                            "color": "white"
                          }
                        },
                        "header": {
                          "fill": {
                            "color": "#C8D4E3"
                          },
                          "line": {
                            "color": "white"
                          }
                        },
                        "type": "table"
                      }
                    ]
                  },
                  "layout": {
                    "annotationdefaults": {
                      "arrowcolor": "#2a3f5f",
                      "arrowhead": 0,
                      "arrowwidth": 1
                    },
                    "autotypenumbers": "strict",
                    "coloraxis": {
                      "colorbar": {
                        "outlinewidth": 0,
                        "ticks": ""
                      }
                    },
                    "colorscale": {
                      "diverging": [
                        [
                          0,
                          "#8e0152"
                        ],
                        [
                          0.1,
                          "#c51b7d"
                        ],
                        [
                          0.2,
                          "#de77ae"
                        ],
                        [
                          0.3,
                          "#f1b6da"
                        ],
                        [
                          0.4,
                          "#fde0ef"
                        ],
                        [
                          0.5,
                          "#f7f7f7"
                        ],
                        [
                          0.6,
                          "#e6f5d0"
                        ],
                        [
                          0.7,
                          "#b8e186"
                        ],
                        [
                          0.8,
                          "#7fbc41"
                        ],
                        [
                          0.9,
                          "#4d9221"
                        ],
                        [
                          1,
                          "#276419"
                        ]
                      ],
                      "sequential": [
                        [
                          0,
                          "#0d0887"
                        ],
                        [
                          0.1111111111111111,
                          "#46039f"
                        ],
                        [
                          0.2222222222222222,
                          "#7201a8"
                        ],
                        [
                          0.3333333333333333,
                          "#9c179e"
                        ],
                        [
                          0.4444444444444444,
                          "#bd3786"
                        ],
                        [
                          0.5555555555555556,
                          "#d8576b"
                        ],
                        [
                          0.6666666666666666,
                          "#ed7953"
                        ],
                        [
                          0.7777777777777778,
                          "#fb9f3a"
                        ],
                        [
                          0.8888888888888888,
                          "#fdca26"
                        ],
                        [
                          1,
                          "#f0f921"
                        ]
                      ],
                      "sequentialminus": [
                        [
                          0,
                          "#0d0887"
                        ],
                        [
                          0.1111111111111111,
                          "#46039f"
                        ],
                        [
                          0.2222222222222222,
                          "#7201a8"
                        ],
                        [
                          0.3333333333333333,
                          "#9c179e"
                        ],
                        [
                          0.4444444444444444,
                          "#bd3786"
                        ],
                        [
                          0.5555555555555556,
                          "#d8576b"
                        ],
                        [
                          0.6666666666666666,
                          "#ed7953"
                        ],
                        [
                          0.7777777777777778,
                          "#fb9f3a"
                        ],
                        [
                          0.8888888888888888,
                          "#fdca26"
                        ],
                        [
                          1,
                          "#f0f921"
                        ]
                      ]
                    },
                    "colorway": [
                      "#636efa",
                      "#EF553B",
                      "#00cc96",
                      "#ab63fa",
                      "#FFA15A",
                      "#19d3f3",
                      "#FF6692",
                      "#B6E880",
                      "#FF97FF",
                      "#FECB52"
                    ],
                    "font": {
                      "color": "#2a3f5f"
                    },
                    "geo": {
                      "bgcolor": "white",
                      "lakecolor": "white",
                      "landcolor": "#E5ECF6",
                      "showlakes": true,
                      "showland": true,
                      "subunitcolor": "white"
                    },
                    "hoverlabel": {
                      "align": "left"
                    },
                    "hovermode": "closest",
                    "mapbox": {
                      "style": "light"
                    },
                    "paper_bgcolor": "white",
                    "plot_bgcolor": "#E5ECF6",
                    "polar": {
                      "angularaxis": {
                        "gridcolor": "white",
                        "linecolor": "white",
                        "ticks": ""
                      },
                      "bgcolor": "#E5ECF6",
                      "radialaxis": {
                        "gridcolor": "white",
                        "linecolor": "white",
                        "ticks": ""
                      }
                    },
                    "scene": {
                      "xaxis": {
                        "backgroundcolor": "#E5ECF6",
                        "gridcolor": "white",
                        "gridwidth": 2,
                        "linecolor": "white",
                        "showbackground": true,
                        "ticks": "",
                        "zerolinecolor": "white"
                      },
                      "yaxis": {
                        "backgroundcolor": "#E5ECF6",
                        "gridcolor": "white",
                        "gridwidth": 2,
                        "linecolor": "white",
                        "showbackground": true,
                        "ticks": "",
                        "zerolinecolor": "white"
                      },
                      "zaxis": {
                        "backgroundcolor": "#E5ECF6",
                        "gridcolor": "white",
                        "gridwidth": 2,
                        "linecolor": "white",
                        "showbackground": true,
                        "ticks": "",
                        "zerolinecolor": "white"
                      }
                    },
                    "shapedefaults": {
                      "line": {
                        "color": "#2a3f5f"
                      }
                    },
                    "ternary": {
                      "aaxis": {
                        "gridcolor": "white",
                        "linecolor": "white",
                        "ticks": ""
                      },
                      "baxis": {
                        "gridcolor": "white",
                        "linecolor": "white",
                        "ticks": ""
                      },
                      "bgcolor": "#E5ECF6",
                      "caxis": {
                        "gridcolor": "white",
                        "linecolor": "white",
                        "ticks": ""
                      }
                    },
                    "title": {
                      "x": 0.05
                    },
                    "xaxis": {
                      "automargin": true,
                      "gridcolor": "white",
                      "linecolor": "white",
                      "ticks": "",
                      "title": {
                        "standoff": 15
                      },
                      "zerolinecolor": "white",
                      "zerolinewidth": 2
                    },
                    "yaxis": {
                      "automargin": true,
                      "gridcolor": "white",
                      "linecolor": "white",
                      "ticks": "",
                      "title": {
                        "standoff": 15
                      },
                      "zerolinecolor": "white",
                      "zerolinewidth": 2
                    }
                  }
                },
                "title": {
                  "text": "Combined Treemap of North American Regions (Normalized Traffic)"
                }
              }
            }
          },
          "metadata": {},
          "output_type": "display_data"
        }
      ],
      "source": [
        "import plotly.express as px\n",
        "import pandas as pd\n",
        "import numpy as np\n",
        "\n",
        "# Dictionary of regions with states and their hypothetical traffic values\n",
        "regions = {\n",
        "    \"Midwest\": [\"Minnesota\", \"Iowa\", \"Missouri\", \"North Dakota\", \"South Dakota\", \"Nebraska\",\n",
        "                \"Wisconsin\", \"Illinois\", \"Michigan\", \"Indiana\", \"Ohio\", \"Kansas\"],\n",
        "    \"New England\": [\"Maine\", \"Vermont\", \"New Hampshire\", \"Massachusetts\", \"Rhode Island\", \"Connecticut\"],\n",
        "    \"Southwest\": [\"Texas\", \"Arizona\", \"New Mexico\", \"Oklahoma\"],\n",
        "    \"Northeast\": [\"New York\", \"Pennsylvania\", \"New Jersey\", \"Delaware\", \"Maryland\"],\n",
        "    \"Northwest\": [\"Washington\", \"Oregon\", \"Idaho\", \"Montana\", \"Wyoming\", \"Alaska\"]\n",
        "}\n",
        "\n",
        "# Create a list to hold our data for each state and region\n",
        "data = []\n",
        "\n",
        "# Generate example 'traffic' values for each state, normalized within each region\n",
        "for region, states in regions.items():\n",
        "    # Generate random traffic values for each state (as placeholder for real data)\n",
        "    traffic_values = np.random.randint(100, 1000, len(states))\n",
        "    max_traffic = max(traffic_values)\n",
        "    normalized_traffic = traffic_values / max_traffic  # Normalize within the region\n",
        "\n",
        "    # Append data for each state in the region\n",
        "    for state, traffic in zip(states, normalized_traffic):\n",
        "        data.append({\"Region\": region, \"State\": state, \"Traffic\": traffic})\n",
        "\n",
        "# Convert to DataFrame\n",
        "df = pd.DataFrame(data)\n",
        "\n",
        "# Create a treemap with a blue color gradient based on normalized traffic values\n",
        "fig = px.treemap(\n",
        "    df,\n",
        "    path=[\"Region\", \"State\"],\n",
        "    values=\"Traffic\",\n",
        "    color=\"Traffic\",\n",
        "    color_continuous_scale=\"Blues\",\n",
        "    title=\"Combined Treemap of North American Regions (Normalized Traffic)\",\n",
        ")\n",
        "\n",
        "# Display the treemap\n",
        "fig.show()\n"
      ]
    }
  ],
  "metadata": {
    "kernelspec": {
      "display_name": "Python 3",
      "language": "python",
      "name": "python3"
    },
    "language_info": {
      "codemirror_mode": {
        "name": "ipython",
        "version": 3
      },
      "file_extension": ".py",
      "mimetype": "text/x-python",
      "name": "python",
      "nbconvert_exporter": "python",
      "pygments_lexer": "ipython3",
      "version": "3.12.7"
    }
  },
  "nbformat": 4,
  "nbformat_minor": 2
}
